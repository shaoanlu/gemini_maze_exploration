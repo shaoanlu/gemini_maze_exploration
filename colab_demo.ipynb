{
  "cells": [
    {
      "cell_type": "code",
      "execution_count": 2,
      "metadata": {
        "id": "D_vCIXEblagx"
      },
      "outputs": [],
      "source": [
        "%pip install -q -U 'google-generativeai>=0.8.3'"
      ]
    },
    {
      "cell_type": "code",
      "execution_count": 1,
      "metadata": {
        "colab": {
          "base_uri": "https://localhost:8080/"
        },
        "id": "fjOE2hw6lajR",
        "outputId": "3700ce5d-f746-47e1-cc29-a69be8c56a66"
      },
      "outputs": [
        {
          "name": "stdout",
          "output_type": "stream",
          "text": [
            "Cloning into 'gemini_maze_exploration'...\n",
            "remote: Enumerating objects: 52, done.\u001b[K\n",
            "remote: Counting objects: 100% (52/52), done.\u001b[K\n",
            "remote: Compressing objects: 100% (36/36), done.\u001b[K\n",
            "remote: Total 52 (delta 20), reused 45 (delta 16), pack-reused 0 (from 0)\u001b[K\n",
            "Receiving objects: 100% (52/52), 1.04 MiB | 6.46 MiB/s, done.\n",
            "Resolving deltas: 100% (20/20), done.\n"
          ]
        }
      ],
      "source": [
        "!git clone https://github.com/shaoanlu/gemini_maze_exploration.git"
      ]
    },
    {
      "cell_type": "code",
      "execution_count": 1,
      "metadata": {
        "colab": {
          "base_uri": "https://localhost:8080/"
        },
        "id": "FgubTYDLlaZT",
        "outputId": "6e4b88f6-24b3-4b10-9da0-c0230c688e7b"
      },
      "outputs": [
        {
          "name": "stdout",
          "output_type": "stream",
          "text": [
            "/content/gemini_maze_exploration\n"
          ]
        }
      ],
      "source": [
        "%cd gemini_maze_exploration"
      ]
    },
    {
      "cell_type": "code",
      "execution_count": 1,
      "metadata": {
        "id": "bUXkOPlJlaeT"
      },
      "outputs": [],
      "source": []
    },
    {
      "cell_type": "code",
      "execution_count": 2,
      "metadata": {
        "id": "imnl4fQklab9"
      },
      "outputs": [],
      "source": [
        "%load_ext autoreload\n",
        "%autoreload 2"
      ]
    },
    {
      "cell_type": "code",
      "execution_count": 2,
      "metadata": {
        "id": "ImbhWZGQlaWv"
      },
      "outputs": [],
      "source": []
    },
    {
      "cell_type": "markdown",
      "metadata": {
        "id": "T8s5iYKart3d"
      },
      "source": [
        "## Imports\n",
        "\n",
        "Free google API key for this demo can be obtained from [AU Studio](https://aistudio.google.com/app/apikey) with [detailed instructions in this docs](https://ai.google.dev/gemini-api/docs/api-key)."
      ]
    },
    {
      "cell_type": "code",
      "execution_count": 3,
      "metadata": {
        "id": "SSd_MewCltQs"
      },
      "outputs": [],
      "source": [
        "from google.colab import userdata\n",
        "import os\n",
        "\n",
        "instruction = open(\"prompt.txt\", \"r\", encoding=\"utf-8\").read()\n",
        "os.environ[\"GOOGLE_API_KEY\"] = userdata.get('GOOGLE_API_KEY')"
      ]
    },
    {
      "cell_type": "code",
      "execution_count": 4,
      "metadata": {
        "id": "A1NSiiH_laUO"
      },
      "outputs": [],
      "source": [
        "from src.grid_manager import GridManager, GridConfig\n",
        "from src.navigator import Navigator\n",
        "from src.mission_controller import MissionController, MissionConfig\n",
        "from src.gemini_chat import GeminiChat, GeminiThinkChat"
      ]
    },
    {
      "cell_type": "code",
      "execution_count": 5,
      "metadata": {
        "id": "Q90clBOhn1iW"
      },
      "outputs": [],
      "source": [
        "from google import generativeai, genai\n",
        "from matplotlib import pyplot as plt"
      ]
    },
    {
      "cell_type": "markdown",
      "metadata": {
        "id": "nagyv_F-ryX4"
      },
      "source": [
        "## Instantiation of objects"
      ]
    },
    {
      "cell_type": "code",
      "execution_count": 6,
      "metadata": {
        "colab": {
          "base_uri": "https://localhost:8080/"
        },
        "id": "K5B42NIenTV0",
        "outputId": "a5676a66-af56-4f63-f97e-03cf3f13d780"
      },
      "outputs": [
        {
          "data": {
            "text/plain": [
              "array([[1., 0., 0., 0., 0.],\n",
              "       [1., 1., 1., 1., 0.],\n",
              "       [1., 1., 0., 1., 0.],\n",
              "       [1., 0., 0., 1., 0.],\n",
              "       [0., 0., 1., 1., 1.]])"
            ]
          },
          "execution_count": 6,
          "metadata": {},
          "output_type": "execute_result"
        }
      ],
      "source": [
        "grid_config = GridConfig()\n",
        "grid_manager = GridManager(grid_config)\n",
        "grid_manager.load_from_image(\"assets/floor1.jpg\")"
      ]
    },
    {
      "cell_type": "code",
      "execution_count": 7,
      "metadata": {
        "colab": {
          "base_uri": "https://localhost:8080/",
          "height": 449
        },
        "id": "iPgA6yvDr7eL",
        "outputId": "153bf010-f318-47a0-addf-18e6181f1c94"
      },
      "outputs": [
        {
          "data": {
            "text/plain": [
              "<matplotlib.image.AxesImage at 0x7f1c79c058d0>"
            ]
          },
          "execution_count": 7,
          "metadata": {},
          "output_type": "execute_result"
        },
        {
          "data": {
            "image/png": "[encoded data removed]",
            "text/plain": [
              "<Figure size 640x480 with 1 Axes>"
            ]
          },
          "metadata": {},
          "output_type": "display_data"
        }
      ],
      "source": [
        "plt.imshow(grid_manager.image)"
      ]
    },
    {
      "cell_type": "code",
      "execution_count": 8,
      "metadata": {
        "id": "rKvZ9hM0nrmw"
      },
      "outputs": [],
      "source": [
        "navigator = Navigator()"
      ]
    },
    {
      "cell_type": "code",
      "execution_count": 9,
      "metadata": {
        "id": "tRUUJA_5ns_P"
      },
      "outputs": [],
      "source": [
        "client = genai.Client(api_key=os.environ[\"GOOGLE_API_KEY\"], http_options={\"api_version\": \"v1alpha\"})"
      ]
    },
    {
      "cell_type": "code",
      "execution_count": 10,
      "metadata": {
        "id": "o0OBPVNrqXMz"
      },
      "outputs": [],
      "source": [
        "mission_config = MissionConfig()\n",
        "mission_config.max_attempts = 30\n",
        "mission_controller = MissionController(grid_manager, navigator, mission_config)"
      ]
    },
    {
      "cell_type": "markdown",
      "metadata": {
        "id": "Dom5m1Hvr1PB"
      },
      "source": [
        "## Start exploration"
      ]
    },
    {
      "cell_type": "code",
      "execution_count": 11,
      "metadata": {
        "colab": {
          "base_uri": "https://localhost:8080/"
        },
        "id": "OjEnspp8ntEP",
        "outputId": "287b852f-a619-4762-fa1a-313cc1cf1142"
      },
      "outputs": [
        {
          "name": "stdout",
          "output_type": "stream",
          "text": [
            "[Trial 1]\n",
            "prompt='Start. you are at (0.5, -0.3)'\n",
            "self.waypoints=[array([0, 0]), array([1, 1]), array([2, 2]), array([3, 3]), array([4, 4])]\n",
            "result='Failed: Stop at (2, 2), traversed cells: [(0, 0), (1, 0), (1, 1), (2, 1), (2, 2)]'\n",
            "\n",
            "[Trial 2]\n",
            "prompt='Failed: Stop at (2, 2), traversed cells: [(0, 0), (1, 0), (1, 1), (2, 1), (2, 2)]'\n",
            "self.waypoints=[array([0, 0]), array([3, 0]), array([3, 1]), array([3, 2]), array([3, 3]), array([4, 3]), array([4, 4])]\n",
            "result='Failed: Stop at (3, 1), traversed cells: [(0, 0), (1, 0), (2, 0), (3, 0), (3, 1)]'\n",
            "\n"
          ]
        }
      ],
      "source": [
        "chat = GeminiThinkChat(client, model_name=\"gemini-2.0-flash-thinking-exp\", instruction=instruction)\n",
        "result = mission_controller.execute_mission(chat, debug=True)"
      ]
    },
    {
      "cell_type": "code",
      "execution_count": 12,
      "metadata": {
        "colab": {
          "base_uri": "https://localhost:8080/"
        },
        "id": "JXMUePPpqSNk",
        "outputId": "51d740dc-050d-4d89-a6f8-19d4a95d71cd"
      },
      "outputs": [
        {
          "data": {
            "text/plain": [
              "('Success',\n",
              " [array([0, 0], dtype=int32),\n",
              "  array([1, 0], dtype=int32),\n",
              "  array([1, 1], dtype=int32),\n",
              "  array([1, 2], dtype=int32),\n",
              "  array([1, 3], dtype=int32),\n",
              "  array([2, 3], dtype=int32),\n",
              "  array([3, 3], dtype=int32),\n",
              "  array([4, 3], dtype=int32),\n",
              "  array([4, 4], dtype=int32)])"
            ]
          },
          "execution_count": 12,
          "metadata": {},
          "output_type": "execute_result"
        }
      ],
      "source": [
        "result"
      ]
    },
    {
      "cell_type": "code",
      "execution_count": null,
      "metadata": {
        "id": "Y7Ebfir2qSQC"
      },
      "outputs": [],
      "source": []
    },
    {
      "cell_type": "markdown",
      "metadata": {
        "id": "GVZSrJ3WvAlP"
      },
      "source": [
        "## Visualize result"
      ]
    },
    {
      "cell_type": "code",
      "execution_count": 13,
      "metadata": {
        "colab": {
          "base_uri": "https://localhost:8080/",
          "height": 432
        },
        "id": "_V8DnJJMoTxe",
        "outputId": "70eb1d9a-ac3d-434d-b973-65bc39e8872b"
      },
      "outputs": [
        {
          "data": {
            "image/png": "[encoded data removed]",
            "text/plain": [
              "<Figure size 640x480 with 1 Axes>"
            ]
          },
          "metadata": {},
          "output_type": "display_data"
        }
      ],
      "source": [
        "_, traversed_cells = result\n",
        "\n",
        "xs, ys = [], []\n",
        "for cell in traversed_cells:\n",
        "    xs.append(10*cell[0]+5)\n",
        "    ys.append(50-10*cell[1] - 5)\n",
        "plt.plot(xs, ys, 'g', linewidth=10, label=\"Traversed cells\")\n",
        "plt.imshow(grid_manager.image)\n",
        "plt.show()"
      ]
    },
    {
      "cell_type": "code",
      "execution_count": null,
      "metadata": {
        "id": "4GmVwA8hoTz6"
      },
      "outputs": [],
      "source": []
    },
    {
      "cell_type": "code",
      "execution_count": null,
      "metadata": {
        "id": "Pd5LL0jMoT2E"
      },
      "outputs": [],
      "source": []
    },
    {
      "cell_type": "code",
      "execution_count": null,
      "metadata": {
        "id": "YkzXUd7ilaRy"
      },
      "outputs": [],
      "source": []
    }
  ],
  "metadata": {
    "colab": {
      "name": "Colaboratory へようこそ",
      "provenance": []
    },
    "kernelspec": {
      "display_name": "Python 3",
      "name": "python3"
    }
  },
  "nbformat": 4,
  "nbformat_minor": 0
}
