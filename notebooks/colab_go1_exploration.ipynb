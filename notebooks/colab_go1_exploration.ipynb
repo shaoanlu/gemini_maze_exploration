{
 "cells": [
  {
   "cell_type": "markdown",
   "metadata": {
    "id": "FPsnZakTrFGS"
   },
   "source": [
    "# Installations and Imports"
   ]
  },
  {
   "cell_type": "code",
   "execution_count": 1,
   "metadata": {
    "cellView": "form",
    "id": "Xqo7pyX-n72M"
   },
   "outputs": [],
   "source": [
    "%%capture\n",
    "!pip install mujoco mujoco_mjx brax playground\n",
    "!command -v ffmpeg >/dev/null || (apt update && apt install -y ffmpeg)\n",
    "!pip install -q mediapy\n",
    "!apt-get update\n",
    "!apt-get install -y libosmesa6-dev libgl1-mesa-glx libglfw3 patchelf"
   ]
  },
  {
   "cell_type": "code",
   "execution_count": 16,
   "metadata": {
    "id": "gvmLOXS7FWou"
   },
   "outputs": [],
   "source": [
    "%pip install -q -U 'google-generativeai>=0.8.3'"
   ]
  },
  {
   "cell_type": "code",
   "execution_count": 2,
   "metadata": {
    "id": "T5f4w3Kq2X14"
   },
   "outputs": [],
   "source": [
    "import jax\n",
    "import numpy as np\n",
    "import matplotlib.pyplot as plt\n",
    "import mediapy\n",
    "import os\n",
    "from tqdm import tqdm\n",
    "\n",
    "os.environ[\"MUJOCO_GL\"] = \"egl\"\n",
    "\n",
    "# More legible printing from numpy.\n",
    "np.set_printoptions(precision=3, suppress=True, linewidth=100)"
   ]
  },
  {
   "cell_type": "markdown",
   "metadata": {
    "id": "hssKFDcnrFGW"
   },
   "source": [
    "# Clone Repository"
   ]
  },
  {
   "cell_type": "code",
   "execution_count": 4,
   "metadata": {
    "colab": {
     "base_uri": "https://localhost:8080/"
    },
    "id": "2ZnNqQU0TQvb",
    "outputId": "6285bd7f-80bf-4ef7-db89-44a6d5d2340e"
   },
   "outputs": [
    {
     "name": "stdout",
     "output_type": "stream",
     "text": [
      "fatal: destination path 'control_system_project_template' already exists and is not an empty directory.\n"
     ]
    }
   ],
   "source": [
    "!git clone https://github.com/shaoanlu/control_system_project_template.git"
   ]
  },
  {
   "cell_type": "code",
   "execution_count": 5,
   "metadata": {
    "colab": {
     "base_uri": "https://localhost:8080/"
    },
    "id": "pQXZu_W7ExY6",
    "outputId": "3d7a7d12-7ab7-4d06-b330-970a962b4c58"
   },
   "outputs": [
    {
     "name": "stdout",
     "output_type": "stream",
     "text": [
      "/content/control_system_project_template\n"
     ]
    }
   ],
   "source": [
    "%cd control_system_project_template"
   ]
  },
  {
   "cell_type": "code",
   "execution_count": 6,
   "metadata": {
    "colab": {
     "base_uri": "https://localhost:8080/"
    },
    "id": "ec1V41OyRtfw",
    "outputId": "c4198575-974b-4b28-e303-ce32411fe40b"
   },
   "outputs": [
    {
     "name": "stdout",
     "output_type": "stream",
     "text": [
      "/content/control_system_project_template\n"
     ]
    }
   ],
   "source": [
    "!pwd"
   ]
  },
  {
   "cell_type": "code",
   "execution_count": 7,
   "metadata": {
    "colab": {
     "base_uri": "https://localhost:8080/"
    },
    "id": "i4l3gLhKETTg",
    "outputId": "896366f6-72de-49fe-e020-77f55d6c953b"
   },
   "outputs": [
    {
     "name": "stdout",
     "output_type": "stream",
     "text": [
      "fatal: destination path 'gemini_maze_exploration' already exists and is not an empty directory.\n"
     ]
    }
   ],
   "source": [
    "!git clone https://github.com/shaoanlu/gemini_maze_exploration.git"
   ]
  },
  {
   "cell_type": "markdown",
   "metadata": {
    "id": "1OeVHTE3rFGX"
   },
   "source": [
    "# Prepare simulation"
   ]
  },
  {
   "cell_type": "markdown",
   "metadata": {},
   "source": [
    "### !!!!! BEWARE !!!!!\n",
    "The following `mv` command overwrites the xml file installed in the mujoco_playground."
   ]
  },
  {
   "cell_type": "code",
   "execution_count": null,
   "metadata": {
    "id": "D1d59S-g4EdE"
   },
   "outputs": [],
   "source": [
    "!mv gemini_maze_exploration/assets/scene_mjx_flat_terrain_maze.xml /usr/local/lib/python3.11/dist-packages/mujoco_playground/_src/locomotion/go1/xmls/scene_mjx_feetonly_flat_terrain.xml"
   ]
  },
  {
   "cell_type": "code",
   "execution_count": null,
   "metadata": {},
   "outputs": [],
   "source": []
  },
  {
   "cell_type": "code",
   "execution_count": null,
   "metadata": {},
   "outputs": [],
   "source": [
    "# import mujoco after setting MUJOCO_GL to prevent errors in video rendering\n",
    "import mujoco"
   ]
  },
  {
   "cell_type": "code",
   "execution_count": 8,
   "metadata": {
    "id": "Wz09ayKFrg6k"
   },
   "outputs": [],
   "source": [
    "from examples.mujoco_Go1.env_wrapper import Go1Env\n",
    "from examples.mujoco_Go1.ppo import PPO, PPOParams, PPOParamsBuilder\n",
    "from src.control.controller_factory import ControllerFactory"
   ]
  },
  {
   "cell_type": "code",
   "execution_count": 9,
   "metadata": {
    "id": "M_a4c1bbHSGi"
   },
   "outputs": [],
   "source": [
    "velocity_kick_range = [0.0, 0.0]  # Disable velocity kick.\n",
    "kick_duration_range = [0.05, 0.2]\n",
    "\n",
    "\n",
    "def sample_pert(rng, env, state):\n",
    "    \"\"\"\n",
    "    Random purterbation to the robot\n",
    "    \"\"\"\n",
    "    rng, key1, key2 = jax.random.split(rng, 3)\n",
    "    pert_mag = jax.random.uniform(key1, minval=velocity_kick_range[0], maxval=velocity_kick_range[1])\n",
    "    duration_seconds = jax.random.uniform(key2, minval=kick_duration_range[0], maxval=kick_duration_range[1])\n",
    "    duration_steps = jax.numpy.round(duration_seconds / env.dt).astype(jax.numpy.int32)\n",
    "    state.info[\"pert_mag\"] = pert_mag\n",
    "    state.info[\"pert_duration\"] = duration_steps\n",
    "    state.info[\"pert_duration_seconds\"] = duration_seconds\n",
    "    return rng"
   ]
  },
  {
   "cell_type": "markdown",
   "metadata": {
    "id": "MFe-Ub8NFQFf"
   },
   "source": [
    "## Setup Gemini Client"
   ]
  },
  {
   "cell_type": "code",
   "execution_count": 10,
   "metadata": {
    "id": "WFhzEtJfFTwP"
   },
   "outputs": [],
   "source": [
    "from google import genai\n",
    "from IPython.display import Image, Markdown\n",
    "from google.colab import userdata\n",
    "\n",
    "\n",
    "client = genai.Client(api_key=userdata.get(\"GOOGLE_API_KEY\"), http_options={\"api_version\": \"v1alpha\"})"
   ]
  },
  {
   "cell_type": "markdown",
   "metadata": {
    "id": "UaxNwBf4Jr-9"
   },
   "source": [
    "## Import Gridmap And LLM Wrapper"
   ]
  },
  {
   "cell_type": "code",
   "execution_count": 11,
   "metadata": {
    "colab": {
     "base_uri": "https://localhost:8080/"
    },
    "id": "8lJCBwusEBZY",
    "outputId": "07ef71b3-6791-4f89-ab7f-4a4fc5de47e3"
   },
   "outputs": [
    {
     "data": {
      "text/plain": [
       "array([[1., 1., 1., ..., 0., 0., 0.],\n",
       "       [1., 1., 1., ..., 0., 0., 0.],\n",
       "       [1., 1., 1., ..., 0., 0., 0.],\n",
       "       ...,\n",
       "       [0., 0., 0., ..., 1., 1., 1.],\n",
       "       [0., 0., 0., ..., 1., 1., 1.],\n",
       "       [0., 0., 0., ..., 1., 1., 1.]])"
      ]
     },
     "execution_count": 11,
     "metadata": {},
     "output_type": "execute_result"
    }
   ],
   "source": [
    "from gemini_maze_exploration.src.gemini_chat import GeminiThinkChat\n",
    "\n",
    "import numpy as np\n",
    "from matplotlib import pyplot as plt\n",
    "from dataclasses import dataclass\n",
    "from typing import Tuple, List\n",
    "\n",
    "\n",
    "@dataclass\n",
    "class GridConfig:\n",
    "    grid_size: Tuple[int, int] = (50, 50)\n",
    "    image_size: int = 50  # 50x50 RGB image representing traversibility of a 5x5 maze\n",
    "    threshold: int = 10  # White color\n",
    "\n",
    "\n",
    "class GridManager:\n",
    "    def __init__(self, config: GridConfig):\n",
    "        self.config = config\n",
    "        self.grid = np.empty(config.grid_size)\n",
    "        self.img2grid_scale = self.config.image_size // self.config.grid_size[0]\n",
    "\n",
    "    def load_from_image(self, image_path: str) -> np.ndarray:\n",
    "        \"\"\"Load and process grid from image.\n",
    "\n",
    "        Thr output is a binary 2D grid where 1 represents a valid position and 0 an invalid one.\n",
    "        This method also involes a transformation of coordinates from image to grid space.\n",
    "        As image coordinates are (0, 0) at the top-left corner and grid coordinates are (0, 0) at the bottom-left corner,\n",
    "        we need to invert the y-axis and scale the coordinates accordingly.\n",
    "        \"\"\"\n",
    "        im = plt.imread(image_path, format=\"jpeg\")\n",
    "        self.image = im\n",
    "        for x in range(self.config.grid_size[0]):\n",
    "            for y in range(self.config.grid_size[1]):\n",
    "                color = im[\n",
    "                    self.config.image_size - self.img2grid_scale * x - int(np.ceil(self.img2grid_scale / 2)),\n",
    "                    self.img2grid_scale * y + int(np.floor(self.img2grid_scale / 2)),\n",
    "                ][0]\n",
    "                self.grid[y, x] = 1 if color >= self.config.threshold else 0\n",
    "        return self.grid\n",
    "\n",
    "    def is_valid_position(self, position: np.ndarray, scale: float = 10) -> bool:\n",
    "        \"\"\"Check if position is valid in the grid.\"\"\"\n",
    "        x, y = np.clip(scale * position, 0, np.inf).astype(int)\n",
    "        return self.grid[x, y] == 1\n",
    "\n",
    "\n",
    "grid_config = GridConfig()\n",
    "grid_manager = GridManager(grid_config)\n",
    "grid_manager.load_from_image(\"gemini_maze_exploration/assets/floor1.jpg\")"
   ]
  },
  {
   "cell_type": "code",
   "execution_count": 11,
   "metadata": {
    "id": "-q_qrl5JsZCJ"
   },
   "outputs": [],
   "source": []
  },
  {
   "cell_type": "markdown",
   "metadata": {
    "id": "gt34bGwSDJDS"
   },
   "source": [
    "## Position Control Helper Functions"
   ]
  },
  {
   "cell_type": "code",
   "execution_count": null,
   "metadata": {},
   "outputs": [],
   "source": [
    "import jax\n",
    "import numpy as np\n",
    "import scipy.linalg"
   ]
  },
  {
   "cell_type": "code",
   "execution_count": null,
   "metadata": {},
   "outputs": [],
   "source": [
    "def lqr_control(pos, tar_pos, yaw, tar_yaw, prev_command):\n",
    "    Ts = 1\n",
    "    v_k = prev_command[0]\n",
    "    A = np.array([[0, 0, -Ts * v_k * np.sin(yaw)],\n",
    "                    [0, 0, Ts * v_k * np.cos(yaw)],\n",
    "                    [0, 0, 0]])\n",
    "    A = A + np.eye(A.shape[0]) * 1e-8  # Add small regularization for numerical stability\n",
    "\n",
    "    B = np.array([[Ts * np.cos(yaw), 0],\n",
    "                    [Ts * np.sin(yaw), 0],\n",
    "                    [0, Ts]])\n",
    "    \n",
    "    Q = np.diag([10, 10, 100])  # Penalize position and heading error\n",
    "    R = np.diag([1, 1])  # Penalize control effort\n",
    "    P = scipy.linalg.solve_continuous_are(A, B, Q, R)\n",
    "    \n",
    "    # Compute the optimal gain matrix K\n",
    "    K = np.linalg.inv(R) @ B.T @ P\n",
    "    X_error = np.array([tar_pos[0]-pos[0], tar_pos[1]-pos[1], tar_yaw-yaw])  # tracking error\n",
    "    U = K @ X_error  # Compute control input\n",
    "    command = jax.numpy.array([np.clip(U[0], -1.5, 1.5), 0, np.clip(U[1], -np.pi/2, np.pi/2)])\n",
    "    return command\n",
    "\n",
    "def p_control(pos, tar_pos, yaw, tar_yaw):\n",
    "    # if with large yaw error, then do rotate\n",
    "    # else move forward (toward target position)\n",
    "    err_yaw = tar_yaw - yaw\n",
    "    dist = jax.numpy.linalg.norm(tar_pos - pos[:2])\n",
    "    if np.abs(err_yaw) > np.pi / 18:\n",
    "        command = jax.numpy.array([0, 0, np.clip(7 * err_yaw, -np.pi / 2, np.pi / 2)])\n",
    "    else:\n",
    "        command = jax.numpy.array([np.clip(2 * dist, -1.5, 1.5), 0, 0])\n",
    "    return command"
   ]
  },
  {
   "cell_type": "code",
   "execution_count": 12,
   "metadata": {
    "id": "imvHF6W1DOSk"
   },
   "outputs": [],
   "source": [
    "def clean_instruction(instr: str) -> str:\n",
    "    char_to_be_deleted = [\"\\n\", \"\\t\", \"'\", \"`\", \"{\", \"}\"]\n",
    "    for c in char_to_be_deleted:\n",
    "        instr = instr.replace(c, \"\")\n",
    "    return instr\n",
    "\n",
    "\n",
    "def get_torso_xyz_from_state(state):\n",
    "    return np.array(state.data.site_xpos[0])  # + np.array([0.5, 0.5, 0.0])\n",
    "\n",
    "\n",
    "def generate_position_control_command(state, tar_pos, prev_command=jax.numpy.zeros((3)), use_lqr=False, debug=False):\n",
    "    pos = get_torso_xyz_from_state(state)\n",
    "    tar_yaw = np.arctan2(tar_pos[1] - pos[1], tar_pos[0] - pos[0])\n",
    "    forward_vec = state.data.site_xmat[1] @ np.array([1.0, 0.0, 0.0])\n",
    "    yaw = np.arctan2(forward_vec[1], forward_vec[0])\n",
    "    tar_yaw, yaw = np.unwrap([tar_yaw, yaw])\n",
    "    err_yaw = tar_yaw - yaw\n",
    "    dist = jax.numpy.linalg.norm(tar_pos - pos[:2])\n",
    "\n",
    "    # Control strategy\n",
    "    # if close to target position, then no control\n",
    "    # else do P control or LQR  control\n",
    "    is_arrived = False\n",
    "    if np.abs(dist) <= 0.1:\n",
    "        command = jax.numpy.zeros((3))\n",
    "        is_arrived = True\n",
    "    else:\n",
    "        if use_lqr:\n",
    "            try:\n",
    "                # ARE might have numerical issue, fall back to simple P control in that case\n",
    "                command = lqr_control(pos, tar_pos, yaw, tar_yaw, prev_command)\n",
    "            except:\n",
    "                command = p_control(pos, tar_pos, yaw, tar_yaw)\n",
    "        else:\n",
    "            command = p_control(pos, tar_pos, yaw, tar_yaw)\n",
    "\n",
    "    if debug:\n",
    "        print(f\"\\n{pos=}\\n{tar_pos=}\\t{yaw=}, {tar_yaw=}\\n{dist=}\\n{command=}\")\n",
    "    info = {\n",
    "        \"pos\": pos,\n",
    "        \"tar\": np.array([tar_pos[0], tar_pos[1], tar_yaw]),\n",
    "        \"dist\": dist,\n",
    "        \"command\": command,\n",
    "        \"is_arrived\": is_arrived,\n",
    "    }\n",
    "    return command, info"
   ]
  },
  {
   "cell_type": "code",
   "execution_count": 13,
   "metadata": {
    "id": "GB5NorWvGRYp"
   },
   "outputs": [],
   "source": [
    "def format_failure_message(pos, position_history, failure_type: str) -> str:\n",
    "    \"\"\"Format failure message with position history.\"\"\"\n",
    "    x, y = pos.astype(int)\n",
    "    return f\"Failed: {failure_type} at ({x}, {y}), traversed cells: {[(int(xy_[0]), int(xy_[1])) for xy_ in position_history]}\"\n",
    "\n",
    "\n",
    "def update_position_history(position_history, current_position):\n",
    "    # Only update position_history is the robot enters a new cell (by comparing position in integer)\n",
    "    if len(position_history) == 0:\n",
    "        position_history.append(current_position.astype(np.int32))\n",
    "        return position_history\n",
    "    if np.array_equal(position_history[-1].astype(np.int32), current_position.astype(np.int32)):\n",
    "        return position_history\n",
    "    else:\n",
    "        position_history.append(current_position.astype(np.int32))\n",
    "    return position_history\n",
    "\n",
    "\n",
    "def run_one_episode(state, env, rng, controller, grid_manager, waypoints, goal_pos=np.array([4, 4])):\n",
    "    rollout = []\n",
    "    ref_commands = []\n",
    "    position_history = []\n",
    "    tar_wp_idx = 0\n",
    "\n",
    "    # start closed-loop sim\n",
    "    sim_time_sec = 30.0\n",
    "    sim_steps = int(sim_time_sec / env.dt)\n",
    "    for i in tqdm(range(sim_steps)):\n",
    "        if state.info[\"steps_since_last_pert\"] < state.info[\"steps_until_next_pert\"]:\n",
    "            rng = sample_pert(rng, env, state)\n",
    "        _, rng = jax.random.split(rng)  # this will randomize perturbation\n",
    "\n",
    "        # calculate controll command\n",
    "        tar_pos = waypoints[tar_wp_idx]\n",
    "        cell_center_offset = 0.5\n",
    "        command, control_info = generate_position_control_command(\n",
    "            state, tar_pos + cell_center_offset, prev_command=command, use_lqr=False, debug=False\n",
    "        )\n",
    "        state.info[\"command\"] = command\n",
    "\n",
    "        ctrl = controller.control(state.obs[\"state\"])  # controller step\n",
    "        state = env.step(state, ctrl)  # simulator step\n",
    "\n",
    "        # record\n",
    "        rollout.append(state)\n",
    "        ref_commands.append(command)\n",
    "        position_history = update_position_history(position_history, control_info[\"pos\"][:2])\n",
    "\n",
    "        # check failure\n",
    "        if not grid_manager.is_valid_position(control_info[\"pos\"][:2]):\n",
    "            return format_failure_message(control_info[\"pos\"][:2], position_history, \"Stop\"), rollout\n",
    "        # check arrival at current waypoint\n",
    "        if control_info[\"is_arrived\"]:\n",
    "            tar_wp_idx += 1  # proceed to next waypoint\n",
    "\n",
    "        # Check if the mission is completed\n",
    "        is_at_last_waypoint = control_info[\"is_arrived\"] and tar_wp_idx == len(waypoints)\n",
    "        if is_at_last_waypoint:\n",
    "            return \"Success\", rollout\n",
    "\n",
    "    return format_failure_message(control_info[\"pos\"][:2], position_history, \"Timeout\"), rollout"
   ]
  },
  {
   "cell_type": "markdown",
   "metadata": {
    "id": "FKA1AJnXrn0O"
   },
   "source": [
    "## Demo: Nagivating a go1 quadruped through a maze with Gemini-thinking Model"
   ]
  },
  {
   "cell_type": "code",
   "execution_count": 14,
   "metadata": {
    "id": "PsiVAH82NS9a"
   },
   "outputs": [],
   "source": [
    "import time"
   ]
  },
  {
   "cell_type": "code",
   "execution_count": 15,
   "metadata": {
    "id": "CPAZ-oMZrFGY"
   },
   "outputs": [],
   "source": [
    "# instantiate mujoco Env\n",
    "env_name = \"Go1JoystickFlatTerrain\"\n",
    "rng = jax.random.PRNGKey(0)\n",
    "env = Go1Env(env_name=env_name)\n",
    "\n",
    "# Instantiate controller based on env_name\n",
    "factory = ControllerFactory()\n",
    "factory.register_controller(PPOParams, PPO)\n",
    "controller_config = {\"npy_path\": f\"examples/mujoco_Go1/nn_params/{env_name}\"}\n",
    "ppo_params = PPOParamsBuilder().build(config=controller_config)\n",
    "controller = factory.build(params=ppo_params)"
   ]
  },
  {
   "cell_type": "code",
   "execution_count": 16,
   "metadata": {
    "colab": {
     "base_uri": "https://localhost:8080/",
     "height": 992
    },
    "id": "4Wt_009nF5xy",
    "outputId": "34fc3d65-fa18-4346-b7a1-fcf4369a8b25"
   },
   "outputs": [
    {
     "name": "stderr",
     "output_type": "stream",
     "text": [
      " 16%|█▌        | 238/1500 [01:11<06:19,  3.33it/s]\n"
     ]
    },
    {
     "name": "stdout",
     "output_type": "stream",
     "text": [
      "[Trial 1]\n",
      "prompt='You are a path planner for a quadruped robot navigating in a partially known 5x5 grid environment. Your task is to guide the robot from the start position (0,0) to the goal position (4,4).\\n\\nEnvironment specifications:\\n- Grid size: 5x5\\n- Start position: (0,0)\\n- Goal position: (4,4)\\n- Some cells are not traversable, but their status is only revealed when the robot attempts to traverse them\\n- The traversability of a cell is probabilistic - failed attempts don\\'t guarantee the cell is completely untraversable\\n\\nPath planning constraints:\\n1. Maximum 10 waypoints allowed per path\\n2. Consecutive waypoints moving in the same direction must be simplified\\n   Example: [(0,0), (1,0), (2,0), (2,1)] should be simplified to [(0,0), (2,0), (2,1)]\\n\\nExpected output format:\\nProvide only a list of coordinates in the format:\\n[(x0,y0), (x1,y1), ..., (xn,yn)]\\n\\nPossible execution outcomes:\\n1. Success: Robot reaches the goal\\n2. Failed (Obstacle): \"Failed: stop at (X,Y), traversed cells: [(x0,y0), (x1,y1), ...]\"\\n   - Episode terminates when hitting an untraversable cell\\n   - Remaining waypoints are discarded\\n3. Failed (Timeout): \"Failed: timeout at (X,Y), traversed cells: [(x0,y0), (x1,y1), ...]\"\\n\\nPlanning strategy:\\n- Use the feedback from failed attempts to refine subsequent path planning\\n- Adapt the path based on discovered untraversable cells\\n- Consider alternative routes when previous attempts fail\\n\\nImportant notes:\\n- Respond ONLY with the waypoint list\\n- No additional text or explanations\\n- Each new attempt should incorporate information from previous failures\\nStart. you are at (0.13059979677200317, -0.495918869972229)'\n",
      "waypoints=[array([0, 0]), array([1, 1]), array([2, 2]), array([3, 3]), array([4, 4])]\n",
      "result='Failed: Stop at (2, 2), traversed cells: [(0, 0), (1, 0), (1, 1), (2, 1), (2, 2)]'\n",
      "\n"
     ]
    },
    {
     "name": "stderr",
     "output_type": "stream",
     "text": [
      " 24%|██▎       | 356/1500 [00:13<00:43, 26.06it/s]\n"
     ]
    },
    {
     "name": "stdout",
     "output_type": "stream",
     "text": [
      "[Trial 2]\n",
      "prompt='Failed: Stop at (2, 2), traversed cells: [(0, 0), (1, 0), (1, 1), (2, 1), (2, 2)]'\n",
      "waypoints=[array([0, 0]), array([3, 0]), array([3, 3]), array([4, 3]), array([4, 4])]\n",
      "result='Failed: Stop at (3, 1), traversed cells: [(0, 0), (1, 0), (2, 0), (3, 0), (3, 1)]'\n",
      "\n"
     ]
    },
    {
     "name": "stderr",
     "output_type": "stream",
     "text": [
      " 19%|█▊        | 279/1500 [00:05<00:23, 52.94it/s]\n"
     ]
    },
    {
     "name": "stdout",
     "output_type": "stream",
     "text": [
      "[Trial 3]\n",
      "prompt='Failed: Stop at (3, 1), traversed cells: [(0, 0), (1, 0), (2, 0), (3, 0), (3, 1)]'\n",
      "waypoints=[array([0, 0]), array([4, 0]), array([4, 4])]\n",
      "result='Failed: Stop at (4, 0), traversed cells: [(0, 0), (1, 0), (2, 0), (3, 0), (4, 0)]'\n",
      "\n"
     ]
    },
    {
     "name": "stderr",
     "output_type": "stream",
     "text": [
      " 11%|█         | 167/1500 [00:04<00:36, 36.37it/s]\n"
     ]
    },
    {
     "name": "stdout",
     "output_type": "stream",
     "text": [
      "[Trial 4]\n",
      "prompt='Failed: Stop at (4, 0), traversed cells: [(0, 0), (1, 0), (2, 0), (3, 0), (4, 0)]'\n",
      "waypoints=[array([0, 0]), array([0, 1]), array([1, 1]), array([2, 1]), array([4, 1]), array([4, 2]), array([4, 3]), array([4, 4])]\n",
      "result='Failed: Stop at (0, 1), traversed cells: [(0, 0), (0, 1)]'\n",
      "\n"
     ]
    },
    {
     "name": "stderr",
     "output_type": "stream",
     "text": [
      " 24%|██▎       | 354/1500 [00:07<00:23, 48.25it/s]\n"
     ]
    },
    {
     "name": "stdout",
     "output_type": "stream",
     "text": [
      "[Trial 5]\n",
      "prompt='Failed: Stop at (0, 1), traversed cells: [(0, 0), (0, 1)]'\n",
      "waypoints=[array([0, 0]), array([3, 0]), array([3, 2]), array([4, 4])]\n",
      "result='Failed: Stop at (3, 1), traversed cells: [(0, 0), (1, 0), (2, 0), (3, 0), (3, 1)]'\n",
      "\n"
     ]
    },
    {
     "name": "stderr",
     "output_type": "stream",
     "text": [
      " 25%|██▍       | 372/1500 [00:08<00:25, 44.34it/s]\n"
     ]
    },
    {
     "name": "stdout",
     "output_type": "stream",
     "text": [
      "[Trial 6]\n",
      "prompt='Failed: Stop at (3, 1), traversed cells: [(0, 0), (1, 0), (2, 0), (3, 0), (3, 1)]'\n",
      "waypoints=[array([0, 0]), array([1, 0]), array([2, 0]), array([2, 3]), array([3, 3]), array([4, 4])]\n",
      "result='Failed: Stop at (2, 2), traversed cells: [(0, 0), (1, 0), (2, 0), (2, 1), (2, 2)]'\n",
      "\n"
     ]
    },
    {
     "name": "stderr",
     "output_type": "stream",
     "text": [
      " 25%|██▍       | 373/1500 [00:07<00:22, 49.86it/s]\n"
     ]
    },
    {
     "name": "stdout",
     "output_type": "stream",
     "text": [
      "[Trial 7]\n",
      "prompt='Failed: Stop at (2, 2), traversed cells: [(0, 0), (1, 0), (2, 0), (2, 1), (2, 2)]'\n",
      "waypoints=[array([0, 0]), array([1, 0]), array([1, 4]), array([4, 4])]\n",
      "result='Failed: Stop at (1, 4), traversed cells: [(0, 0), (1, 0), (1, 1), (1, 2), (1, 3), (1, 4)]'\n",
      "\n"
     ]
    },
    {
     "name": "stderr",
     "output_type": "stream",
     "text": [
      " 22%|██▏       | 331/1500 [00:06<00:24, 48.27it/s]\n"
     ]
    },
    {
     "name": "stdout",
     "output_type": "stream",
     "text": [
      "[Trial 8]\n",
      "prompt='Failed: Stop at (1, 4), traversed cells: [(0, 0), (1, 0), (1, 1), (1, 2), (1, 3), (1, 4)]'\n",
      "waypoints=[array([0, 0]), array([1, 0]), array([2, 1]), array([3, 2]), array([4, 4])]\n",
      "result='Failed: Stop at (3, 1), traversed cells: [(0, 0), (1, 0), (1, 1), (2, 1), (3, 1)]'\n",
      "\n"
     ]
    },
    {
     "name": "stderr",
     "output_type": "stream",
     "text": [
      " 42%|████▏     | 637/1500 [00:20<00:27, 31.54it/s]"
     ]
    },
    {
     "name": "stdout",
     "output_type": "stream",
     "text": [
      "[Trial 9]\n",
      "prompt='Failed: Stop at (3, 1), traversed cells: [(0, 0), (1, 0), (1, 1), (2, 1), (3, 1)]'\n",
      "waypoints=[array([0, 0]), array([1, 0]), array([1, 3]), array([4, 3]), array([4, 4])]\n",
      "result='Success'\n",
      "\n"
     ]
    },
    {
     "name": "stderr",
     "output_type": "stream",
     "text": [
      "\n"
     ]
    },
    {
     "data": {
      "application/vnd.google.colaboratory.intrinsic+json": {
       "type": "string"
      },
      "text/plain": [
       "'Success'"
      ]
     },
     "execution_count": 16,
     "metadata": {},
     "output_type": "execute_result"
    }
   ],
   "source": [
    "instruction = open(\"gemini_maze_exploration/prompt.txt\", \"r\").read()\n",
    "chat = GeminiThinkChat(client, model_name=\"gemini-2.0-flash-thinking-exp\")\n",
    "\n",
    "\n",
    "retry_delay_sec = 5\n",
    "goal_pos = np.array([4, 4])\n",
    "max_attempts = 15\n",
    "rollout = []\n",
    "for attempt in range(max_attempts):\n",
    "    # Initialize for a new round of simulation\n",
    "    state = env.reset(rng)\n",
    "    current_position = get_torso_xyz_from_state(state)[:2]\n",
    "    if attempt == 0:\n",
    "        prompt = instruction + f\"\\nStart. you are at ({current_position[0]}, {current_position[1]})\"\n",
    "\n",
    "    # Prompt the LLM to get waypoints suggestion\n",
    "    waypoints = chat.get_waypoints(prompt)\n",
    "    if not np.array_equal(waypoints[-1], goal_pos):\n",
    "        waypoints.append(goal_pos)\n",
    "    # waypoints = [np.array([0, 0]), np.array([1, 0]), np.array([1, 3]), np.array([4, 3]), np.array([4, 4])]\n",
    "\n",
    "    # run the mission (simulation)\n",
    "    result, epi_rollout = run_one_episode(state, env, rng, controller, grid_manager, waypoints, goal_pos=goal_pos)\n",
    "    rollout.extend(epi_rollout)\n",
    "\n",
    "    print(f\"[Trial {attempt + 1}]\\n{prompt=}\\n{waypoints=}\\n{result=}\\n\")\n",
    "    prompt = result\n",
    "\n",
    "    if result == \"Success\":\n",
    "        break\n",
    "\n",
    "    # add a delay before retrying to avoid API rate limiting\n",
    "    time.sleep(retry_delay_sec)\n",
    "\n",
    "result"
   ]
  },
  {
   "cell_type": "code",
   "execution_count": 17,
   "metadata": {
    "id": "7N8bmyie7DPc"
   },
   "outputs": [],
   "source": [
    "# Set up the camera\n",
    "camera = mujoco.MjvCamera()\n",
    "mujoco.mjv_defaultCamera(camera)\n",
    "\n",
    "# Object is centered at (0,0,1.5) with size 15m x 15m x 3m\n",
    "camera.lookat[:] = np.array([2.0, 1.5, 1.5])  # Center of object\n",
    "\n",
    "# Calculate distance using a safe margin\n",
    "object_size = 6  # Maximum size in X or Y\n",
    "fov = 45  # Default MuJoCo camera FOV\n",
    "safe_margin = 1  # Factor to ensure entire object is in view\n",
    "\n",
    "# Compute required distance using field of view\n",
    "camera.distance = (object_size / 2) / np.tan(np.radians(fov / 2)) * safe_margin\n",
    "\n",
    "# Look directly down\n",
    "camera.azimuth = 90  # No horizontal rotation\n",
    "camera.elevation = -70  # Directly downward"
   ]
  },
  {
   "cell_type": "code",
   "execution_count": null,
   "metadata": {
    "id": "ajdoXNwu8qK_"
   },
   "outputs": [],
   "source": [
    "render_every = 5\n",
    "fps = 3.0 / env.dt / render_every  # 3x realtime\n",
    "traj = rollout[::render_every]\n",
    "\n",
    "scene_option = mujoco.MjvOption()\n",
    "scene_option.geomgroup[2] = True\n",
    "scene_option.geomgroup[3] = False\n",
    "scene_option.flags[mujoco.mjtVisFlag.mjVIS_CONTACTPOINT] = True\n",
    "scene_option.flags[mujoco.mjtVisFlag.mjVIS_CONTACTFORCE] = False\n",
    "scene_option.flags[mujoco.mjtVisFlag.mjVIS_TRANSPARENT] = False\n",
    "\n",
    "frames = env.render(\n",
    "    traj,\n",
    "    camera=camera,\n",
    "    scene_option=scene_option,\n",
    "    height=480,\n",
    "    width=640,\n",
    ")\n",
    "mediapy.show_video(frames, fps=fps, loop=False)"
   ]
  },
  {
   "cell_type": "code",
   "execution_count": null,
   "metadata": {
    "id": "edwQI3VVQOtB"
   },
   "outputs": [],
   "source": []
  }
 ],
 "metadata": {
  "colab": {
   "provenance": []
  },
  "kernelspec": {
   "display_name": "Python 3",
   "name": "python3"
  },
  "language_info": {
   "codemirror_mode": {
    "name": "ipython",
    "version": 3
   },
   "file_extension": ".py",
   "mimetype": "text/x-python",
   "name": "python",
   "nbconvert_exporter": "python",
   "pygments_lexer": "ipython3",
   "version": "3.12.3"
  }
 },
 "nbformat": 4,
 "nbformat_minor": 0
}
